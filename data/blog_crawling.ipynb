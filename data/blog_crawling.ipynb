{
 "cells": [
  {
   "cell_type": "code",
   "execution_count": 9,
   "metadata": {},
   "outputs": [],
   "source": [
    "import requests\n",
    "from bs4 import BeautifulSoup\n",
    "import pandas as pd\n",
    "\n",
    "from selenium import webdriver\n",
    "from selenium.webdriver.common.by import By\n",
    "from selenium.webdriver.chrome.service import Service\n",
    "from webdriver_manager.chrome import ChromeDriverManager"
   ]
  },
  {
   "cell_type": "code",
   "execution_count": 10,
   "metadata": {},
   "outputs": [
    {
     "data": {
      "text/plain": [
       "'https://search.naver.com/search.naver?ssc=tab.blog.all&sm=tab_jum&query=전라남도 광주 여행'"
      ]
     },
     "execution_count": 10,
     "metadata": {},
     "output_type": "execute_result"
    }
   ],
   "source": [
    "searchkey = \"전라남도 광주 여행\"\n",
    "url = f\"https://search.naver.com/search.naver?ssc=tab.blog.all&sm=tab_jum&query={searchkey}\"\n",
    "url"
   ]
  },
  {
   "cell_type": "code",
   "execution_count": 11,
   "metadata": {},
   "outputs": [],
   "source": [
    "driver = webdriver.Chrome(service= Service(ChromeDriverManager().install()))\n",
    "driver.implicitly_wait(10)\n",
    "driver.get(url)\n",
    "driver.implicitly_wait(10)"
   ]
  },
  {
   "cell_type": "code",
   "execution_count": 12,
   "metadata": {},
   "outputs": [],
   "source": [
    "## 휠 내리는 코드 추가\n",
    "#####\n",
    "title_element_list = driver.find_elements(By.CLASS_NAME,'title_link')\n",
    "\n",
    "# 블로그 url 리스트화\n",
    "title_url_list =[]\n",
    "for title_url in title_element_list:\n",
    "    url_append = title_url.get_attribute('href')\n",
    "    title_url_list.append(url_append)\n",
    "driver.close()"
   ]
  },
  {
   "cell_type": "code",
   "execution_count": 13,
   "metadata": {},
   "outputs": [
    {
     "data": {
      "text/plain": [
       "30"
      ]
     },
     "execution_count": 13,
     "metadata": {},
     "output_type": "execute_result"
    }
   ],
   "source": [
    "len(title_url_list)"
   ]
  },
  {
   "cell_type": "code",
   "execution_count": 14,
   "metadata": {},
   "outputs": [
    {
     "data": {
      "text/plain": [
       "'https://blog.naver.com/s2loves2ol/223444582055'"
      ]
     },
     "execution_count": 14,
     "metadata": {},
     "output_type": "execute_result"
    }
   ],
   "source": [
    "# blog 정보 추출\n",
    "bs_url = title_url_list[0]\n",
    "bs_url"
   ]
  },
  {
   "cell_type": "code",
   "execution_count": 15,
   "metadata": {},
   "outputs": [],
   "source": [
    "m_url = \"https://m.\" + bs_url.replace(\"https://\",\"\") # mobile 버전으로 우회\n",
    "driver = webdriver.Chrome(service= Service(ChromeDriverManager().install()))\n",
    "driver.implicitly_wait(10)\n",
    "driver.get(m_url)\n",
    "driver.implicitly_wait(10)"
   ]
  },
  {
   "cell_type": "code",
   "execution_count": 16,
   "metadata": {},
   "outputs": [
    {
     "data": {
      "text/plain": [
       "'작년 5월 어린이날 부여 여행을 갔을 때도 비가 왔던 기억이 있는데 올해 어린이날도 비가 왔어요.\\n전라남도 여행 일정\\n5월 4일 : 신안 소금박물관 -나주 드들강 유원지\\n5월 5일 : 광주 염주 실내 수영장 - 국립 광주 박물관 - 국립 광주 과학관\\n국립광주과학관\\n• 주소 : 광주 북구 첨단과기로 235\\n• 09:30 ~ 17:30 /매주 월요일 휴관\\n• 전화 : 062- 960- 6210\\n• 주차 : 3시간 무료 그외 금액 발생\\n비가 오니 실내로 사람들이 많이 모였는지\\n주차장 입구부터 차가 늘어서 있었어요.\\n국립 광주과학관은 원래 유료인데\\n상설전시관/개인/어른 : 3000 원\\n상설전시관/개인/청소년,어린이 : 2000원\\n하지만 우리가 간 날은 어린이날 이벤트로 무료 ! 🙂\\n빛고을탑\\n과학과 예술적 표현의 근본인\\n물리적인 빛, 정원 속 식물을 부양하는 생명의 빛,\\n움직이는 모빌과 회전하는\\n큐브의 에너지와 빛을 표현한대요.\\n저희가 과학관 도착한 시각이 3시 30분쯤.\\n시간이 부족할 것 같아 상설 전시관만\\n구경해 보기로 했어요.\\n건물에 들어서니 입구에 닥터 피쉬 체험이 있어\\n용감하게 손가락도 넣어 보고요.\\n자동차의 부분 마다 볼 수 있어\\n어떤 역할을 하는지 알아 보기도 했어요.\\n2층 올라 가려는데 사람들이 줄을 서 있더라고요.\\n국립 광주박물관, 국립 광주과학관 유투브\\n구독을 하면 스크래치 종이를 주는데\\n긁어서 나온 상품을 선물을 받을 수 있대요.\\n애들이 원해서 구독 누르고 줄서서 기다렸다\\n스크래치 종이 한 장씩 받았습니다.\\n뭐가 나올까?\\n형광펜과 노트 받았는데\\n온이가 노트를 꽤 마음에 들어 했어요.\\n선물 받아들고 2층으로 올라 가는 계단은\\n피아노 건반에 원소명과 기호가 표시 되어 있어요.\\n전날 신안 염전체험 갔을 때 소금 원소기호\\nNaCl 가 언급되어서 그런지 관심 있게\\n계단을 올라 갔어요.\\n연휴 끝난 뒤 있었던 일인데\\n과학 실험 수업 시간에\\n이야기속에 원소가 등장했고 원소주기율표를\\n보고 왔다 갔다 하면서 선생님께 질문을 해대서\\n7살에 만난 온이랑 중학교 수준의 원소에 대해서 이야기나누고 아이의 성장에 갑자기 찡 했다며\\n피드백 받았어요. 제가 원하던 방향이에요!\\n학습에 대한 자연스런 관심!\\n2층 올라가니 많은 아이들이\\n요리조리 다니며 바빠 보였는데\\n둘라보다 보니 신기하고 체험할 것들이 많아\\n바쁘게 움직이지 않을 수 없었겠다 생각들었어요.\\n빛의 편광현상도 퍼즐을 통해 경험해 봤어요.\\n어떠한 특정한 한 반향으로 진동하는 빛만\\n통과시키는 판이라는데 같은 퍼즐 조각이라도\\n신기방기하게 방향에 따라 색이 차이나요.\\n움직이면 화면속에\\n스케치처럼 나와요.\\n빛을 굴절 시켜 반대 방향에\\n골인 시켜 봐요.\\n착시 현상에 대한 퀴즈\\n서있는 위치의 거리에 따라\\n맺히는 상의 모습이 변하는\\n오목거울의 원리를 알아볼 수 있어요.\\n진공에서 빛과 소리는 전달 될까?\\n유리관 안을 진공으로 만들면서 나타나는 현상을 관찰하면서 진공에서 빛과 소리의 차이를 이해해 볼 수 있어요.\\n운동에너지의 전달현상을\\n빛의 움직임으로 표현하고 체험 할 수 있도록\\n디자인한 작품이래요.\\n용지에 색칠을 하고 조트로프 체험\\n테이블 원통에 넣어 관찰해요.\\n그림이 마치 움직이는 것 같아 보여요.\\n이미지들의 잔상이 남아 착시 현상을 일으키는\\n조트로프\\n3D 홀로그래피 기술을 기반으로\\n가시광선의 7가지 색을 추출하여\\n고유의 파장리듬과 에너지를\\n직접 느껴 볼 수 있는 공감각적 체험공간.\\n전파체험관을 관람하고 체험하며\\n알게 된 내용을 퀴즈를 풀어보면서\\n다시한번 확인하는 시간을 가져볼 수 있어요.\\n불량·불법 전파를 잡아보자!\\n몸짓을 하면 장구 소리가 나요\\n게임 공간이라 인기 폭발\\n어린이, 어른 상관없이 인기 있던\\n스포츠 체험 공간 까지\\n광주 과학관은 아이들의 흥미를 끌고 체험할 수 있는\\n것들이 많아 시간 가는 줄 모르고\\n시간 보내고 온 거 같아요.\\n운영시간이 끝나 나오긴 했는데\\n애들이 나오기 너무 아쉬워 했어요.\\n다음엔 광주 과학관만 하루 코스로 한 번 더\\n가보고 싶은 곳이에요!'"
      ]
     },
     "execution_count": 16,
     "metadata": {},
     "output_type": "execute_result"
    }
   ],
   "source": [
    "contents_ele = driver.find_elements(By.CLASS_NAME,'se-main-container')\n",
    "contents_text = contents_ele[0].text\n",
    "contents_text"
   ]
  },
  {
   "cell_type": "code",
   "execution_count": 17,
   "metadata": {},
   "outputs": [],
   "source": [
    "driver.close()"
   ]
  },
  {
   "cell_type": "code",
   "execution_count": 27,
   "metadata": {},
   "outputs": [
    {
     "data": {
      "text/plain": [
       "'작년 5월 어린이날 부여 여행을 갔을 때도 비가 왔던 기억이 있는데 올해 어린이날도 비가 왔어요.\\n전라남도 여행 일정\\n5월 4일 : 신안 소금박물관 -나주 드들강 유원지\\n5월 5일 : 광주 염주 실내 수영장 - 국립 광주 박물관 - 국립 광주 과학관\\n국립광주과학관\\n• 주소 : 광주 북구 첨단과기로 235\\n• 09:30 ~ 17:30 /매주 월요일 휴관\\n• 전화 : 062- 960- 6210\\n• 주차 : 3시간 무료 그외 금액 발생\\n비가 오니 실내로 사람들이 많이 모였는지\\n주차장 입구부터 차가 늘어서 있었어요.\\n국립 광주과학관은 원래 유료인데\\n상설전시관/개인/어른 : 3000 원\\n상설전시관/개인/청소년,어린이 : 2000원\\n하지만 우리가 간 날은 어린이날 이벤트로 무료 ! 🙂\\n빛고을탑\\n과학과 예술적 표현의 근본인\\n물리적인 빛, 정원 속 식물을 부양하는 생명의 빛,\\n움직이는 모빌과 회전하는\\n큐브의 에너지와 빛을 표현한대요.\\n저희가 과학관 도착한 시각이 3시 30분쯤.\\n시간이 부족할 것 같아 상설 전시관만\\n구경해 보기로 했어요.\\n건물에 들어서니 입구에 닥터 피쉬 체험이 있어\\n용감하게 손가락도 넣어 보고요.\\n자동차의 부분 마다 볼 수 있어\\n어떤 역할을 하는지 알아 보기도 했어요.\\n2층 올라 가려는데 사람들이 줄을 서 있더라고요.\\n국립 광주박물관, 국립 광주과학관 유투브\\n구독을 하면 스크래치 종이를 주는데\\n긁어서 나온 상품을 선물을 받을 수 있대요.\\n애들이 원해서 구독 누르고 줄서서 기다렸다\\n스크래치 종이 한 장씩 받았습니다.\\n뭐가 나올까?\\n형광펜과 노트 받았는데\\n온이가 노트를 꽤 마음에 들어 했어요.\\n선물 받아들고 2층으로 올라 가는 계단은\\n피아노 건반에 원소명과 기호가 표시 되어 있어요.\\n전날 신안 염전체험 갔을 때 소금 원소기호\\nNaCl 가 언급되어서 그런지 관심 있게\\n계단을 올라 갔어요.\\n연휴 끝난 뒤 있었던 일인데\\n과학 실험 수업 시간에\\n이야기속에 원소가 등장했고 원소주기율표를\\n보고 왔다 갔다 하면서 선생님께 질문을 해대서\\n7살에 만난 온이랑 중학교 수준의 원소에 대해서 이야기나누고 아이의 성장에 갑자기 찡 했다며\\n피드백 받았어요. 제가 원하던 방향이에요!\\n학습에 대한 자연스런 관심!\\n2층 올라가니 많은 아이들이\\n요리조리 다니며 바빠 보였는데\\n둘라보다 보니 신기하고 체험할 것들이 많아\\n바쁘게 움직이지 않을 수 없었겠다 생각들었어요.\\n빛의 편광현상도 퍼즐을 통해 경험해 봤어요.\\n어떠한 특정한 한 반향으로 진동하는 빛만\\n통과시키는 판이라는데 같은 퍼즐 조각이라도\\n신기방기하게 방향에 따라 색이 차이나요.\\n움직이면 화면속에\\n스케치처럼 나와요.\\n빛을 굴절 시켜 반대 방향에\\n골인 시켜 봐요.\\n착시 현상에 대한 퀴즈\\n서있는 위치의 거리에 따라\\n맺히는 상의 모습이 변하는\\n오목거울의 원리를 알아볼 수 있어요.\\n진공에서 빛과 소리는 전달 될까?\\n유리관 안을 진공으로 만들면서 나타나는 현상을 관찰하면서 진공에서 빛과 소리의 차이를 이해해 볼 수 있어요.\\n운동에너지의 전달현상을\\n빛의 움직임으로 표현하고 체험 할 수 있도록\\n디자인한 작품이래요.\\n용지에 색칠을 하고 조트로프 체험\\n테이블 원통에 넣어 관찰해요.\\n그림이 마치 움직이는 것 같아 보여요.\\n이미지들의 잔상이 남아 착시 현상을 일으키는\\n조트로프\\n3D 홀로그래피 기술을 기반으로\\n가시광선의 7가지 색을 추출하여\\n고유의 파장리듬과 에너지를\\n직접 느껴 볼 수 있는 공감각적 체험공간.\\n전파체험관을 관람하고 체험하며\\n알게 된 내용을 퀴즈를 풀어보면서\\n다시한번 확인하는 시간을 가져볼 수 있어요.\\n불량·불법 전파를 잡아보자!\\n몸짓을 하면 장구 소리가 나요\\n게임 공간이라 인기 폭발\\n어린이, 어른 상관없이 인기 있던\\n스포츠 체험 공간 까지\\n광주 과학관은 아이들의 흥미를 끌고 체험할 수 있는\\n것들이 많아 시간 가는 줄 모르고\\n시간 보내고 온 거 같아요.\\n운영시간이 끝나 나오긴 했는데\\n애들이 나오기 너무 아쉬워 했어요.\\n다음엔 광주 과학관만 하루 코스로 한 번 더\\n가보고 싶은 곳이에요!'"
      ]
     },
     "execution_count": 27,
     "metadata": {},
     "output_type": "execute_result"
    }
   ],
   "source": [
    "contents_text"
   ]
  },
  {
   "cell_type": "code",
   "execution_count": null,
   "metadata": {},
   "outputs": [],
   "source": []
  },
  {
   "cell_type": "code",
   "execution_count": 39,
   "metadata": {},
   "outputs": [],
   "source": [
    "import os\n",
    "\n",
    "api_key = os.getenv('OPENAI_API_KEY')"
   ]
  },
  {
   "cell_type": "code",
   "execution_count": 37,
   "metadata": {},
   "outputs": [],
   "source": [
    "from langchain_core.pydantic_v1 import BaseModel, Field\n",
    "\n",
    "\n",
    "# 원하는 데이터 구조를 정의합니다.\n",
    "class QAPair(BaseModel):\n",
    "    question: str = Field(description=\"Question generated from the text\")\n",
    "    answer: str = Field(description=\"Answer related to the question\")"
   ]
  },
  {
   "cell_type": "code",
   "execution_count": 38,
   "metadata": {},
   "outputs": [],
   "source": [
    "from langchain_core.prompts import PromptTemplate\n",
    "\n",
    "prompt = PromptTemplate.from_template(\n",
    "    \"\"\"Context information is below. You are only aware of this context and nothing else.\n",
    "---------------------\n",
    "\n",
    "{context}\n",
    "\n",
    "---------------------\n",
    "Given this context, generate only questions based on the below query.\n",
    "You are an Teacher/Professor in {domain}. \n",
    "Your task is to provide exactly **{num_questions}** question(s) for an upcoming quiz/examination. \n",
    "You are not to provide more or less than this number of questions. \n",
    "The question(s) should be diverse in nature across the document. \n",
    "The purpose of question(s) is to test the understanding of the students on the context information provided.\n",
    "You must also provide the answer to each question. The answer should be based on the context information provided only.\n",
    "\n",
    "Restrict the question(s) to the context information provided only.\n",
    "QUESTION and ANSWER should be written in Korean. response in JSON format which contains the `question` and `answer`.\n",
    "ANSWER should be a complete sentence.\n",
    "\n",
    "#Format:\n",
    "```json\n",
    "{{\n",
    "    \"QUESTION\": \"바이든 대통령이 서명한 '안전하고 신뢰할 수 있는 AI 개발과 사용에 관한 행정명령'의 주요 목적 중 하나는 무엇입니까?\",\n",
    "    \"ANSWER\": \"바이든 대통령이 서명한 행정명령의 주요 목적은 AI의 안전 마련과 보안 기준 마련을 위함입니다.\"\n",
    "}},\n",
    "{{\n",
    "    \"QUESTION\": \"메타의 라마2가 오픈소스 모델 중에서 어떤 유형의 작업에서 가장 우수한 성능을 발휘했습니까?\",\n",
    "    \"ANSWER\": \"메타의 라마2는 RAG 없는 질문과 답변 및 긴 형식의 텍스트 생성에서 오픈소스 모델 중 가장 우수한 성능을 발휘했습니다.\"    \n",
    "}},\n",
    "{{\n",
    "    \"QUESTION\": \"IDC 예측에 따르면 2027년까지 생성 AI 플랫폼과 애플리케이션 시장의 매출은 얼마로 전망되나요?\",\n",
    "    \"ANSWER\": \"IDC 예측에 따르면 2027년까지 생성 AI 플랫폼과 애플리케이션 시장의 매출은 283억 달러로 전망됩니다.\"    \n",
    "}}\n",
    "```\n",
    "\"\"\"\n",
    ")"
   ]
  },
  {
   "cell_type": "code",
   "execution_count": 41,
   "metadata": {},
   "outputs": [
    {
     "name": "stdout",
     "output_type": "stream",
     "text": [
      "```json\n",
      "[\n",
      "    {\n",
      "        \"QUESTION\": \"작"
     ]
    }
   ],
   "source": [
    "from langchain_core.output_parsers import JsonOutputParser\n",
    "from langchain_openai import ChatOpenAI\n",
    "from langchain.callbacks.streaming_stdout import StreamingStdOutCallbackHandler\n",
    "\n",
    "\n",
    "# 파서를 설정하고 프롬프트 템플릿에 지시사항을 주입합니다.\n",
    "parser = JsonOutputParser(pydantic_object=QAPair)\n",
    "\n",
    "chain = (\n",
    "    prompt\n",
    "    | ChatOpenAI(\n",
    "        model=\"gpt-4o\",\n",
    "        temperature=0,\n",
    "        streaming=True,\n",
    "        callbacks=[StreamingStdOutCallbackHandler()],\n",
    "    )\n",
    "    | parser\n",
    ")  # 체인을 구성합니다.\n",
    "\n",
    "qa_pair = []\n",
    "\n",
    "qa_pair = chain.invoke(\n",
    "{\"context\": contents_text, \"domain\": \"여행\", \"num_questions\": \"10\"}\n",
    ")"
   ]
  },
  {
   "cell_type": "code",
   "execution_count": null,
   "metadata": {},
   "outputs": [],
   "source": []
  },
  {
   "cell_type": "code",
   "execution_count": null,
   "metadata": {},
   "outputs": [],
   "source": []
  },
  {
   "cell_type": "code",
   "execution_count": null,
   "metadata": {},
   "outputs": [],
   "source": []
  }
 ],
 "metadata": {
  "kernelspec": {
   "display_name": "Gwangju_RAG_chat",
   "language": "python",
   "name": "python3"
  },
  "language_info": {
   "codemirror_mode": {
    "name": "ipython",
    "version": 3
   },
   "file_extension": ".py",
   "mimetype": "text/x-python",
   "name": "python",
   "nbconvert_exporter": "python",
   "pygments_lexer": "ipython3",
   "version": "3.10.14"
  }
 },
 "nbformat": 4,
 "nbformat_minor": 2
}
