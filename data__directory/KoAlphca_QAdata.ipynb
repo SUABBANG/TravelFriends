{
 "cells": [
  {
   "cell_type": "code",
   "execution_count": 1,
   "metadata": {},
   "outputs": [
    {
     "data": {
      "application/vnd.jupyter.widget-view+json": {
       "model_id": "a72bf38433e04c41844c86fe3710b531",
       "version_major": 2,
       "version_minor": 0
      },
      "text/plain": [
       "Loading checkpoint shards:   0%|          | 0/13 [00:00<?, ?it/s]"
      ]
     },
     "metadata": {},
     "output_type": "display_data"
    },
    {
     "data": {
      "application/vnd.jupyter.widget-view+json": {
       "model_id": "d50a4443547142958a2848ef395e5e12",
       "version_major": 2,
       "version_minor": 0
      },
      "text/plain": [
       "generation_config.json:   0%|          | 0.00/116 [00:00<?, ?B/s]"
      ]
     },
     "metadata": {},
     "output_type": "display_data"
    },
    {
     "name": "stderr",
     "output_type": "stream",
     "text": [
      "Special tokens have been added in the vocabulary, make sure the associated word embeddings are fine-tuned or trained.\n"
     ]
    }
   ],
   "source": [
    "import torch\n",
    "from transformers import pipeline, AutoModelForCausalLM\n",
    "\n",
    "MODEL = 'beomi/KoAlpaca-Polyglot-5.8B'\n",
    "\n",
    "model = AutoModelForCausalLM.from_pretrained(\n",
    "    MODEL,\n",
    "    torch_dtype=torch.float16,\n",
    "    low_cpu_mem_usage=True,\n",
    ").to(device=f\"cuda\", non_blocking=True)\n",
    "model.eval()\n",
    "\n",
    "pipe = pipeline(\n",
    "    'text-generation',\n",
    "    model=model,\n",
    "    tokenizer=MODEL,\n",
    "    device=0\n",
    ")\n"
   ]
  },
  {
   "cell_type": "code",
   "execution_count": 2,
   "metadata": {},
   "outputs": [
    {
     "name": "stdout",
     "output_type": "stream",
     "text": [
      "딥러닝은 인공지능 분야의 하나로서 연속된 계층을 이룬 신경망 네트워크를 이용합니다. 이를 통해 데이터의 복잡한 관계를 자동으로 학습하며, 예측 또는 분류 작업에 이용됩니다. 이 기술은 컴퓨터가 인간의 학습 능력과 유사한 방식으로 패턴을 학습하도록 하며, 데이터 분류 및 예측 능력을 향상시키는데 사용됩니다. 예를 들어, 의료 분야에서는 딥러닝을 활용하여 질병 진단 및 치료 계획을 작성하는 데 사용됩니다. \n"
     ]
    }
   ],
   "source": [
    "def ask(x, context='', is_input_full=False):\n",
    "    ans = pipe(\n",
    "        f\"### 질문: {x}\\n\\n### 맥락: {context}\\n\\n### 답변:\" if context else f\"### 질문: {x}\\n\\n### 답변:\",\n",
    "        do_sample=True,\n",
    "        max_new_tokens=512,\n",
    "        temperature=0.7,\n",
    "        top_p=0.9,\n",
    "        return_full_text=False,\n",
    "        eos_token_id=2,\n",
    "    )\n",
    "    print(ans[0]['generated_text'])\n",
    "\n",
    "ask(\"딥러닝이 뭐야?\")"
   ]
  },
  {
   "cell_type": "code",
   "execution_count": 4,
   "metadata": {},
   "outputs": [],
   "source": [
    "# 리스트 불러오기\n",
    "import pickle\n",
    "\n",
    "with open(\"./DATA/전라남도_광주_여행_contents_list.pkl\",\"rb\") as f:\n",
    "    list_ex_load = pickle.load(f)"
   ]
  },
  {
   "cell_type": "code",
   "execution_count": 5,
   "metadata": {},
   "outputs": [
    {
     "data": {
      "text/plain": [
       "'작년 5월 어린이날 부여 여행을 갔을 때도 비가 왔던 기억이 있는데 올해 어린이날도 비가 왔어요.\\n전라남도 여행 일정\\n5월 4일 : 신안 소금박물관 -나주 드들강 유원지\\n5월 5일 : 광주 염주 실내 수영장 - 국립 광주 박물관 - 국립 광주 과학관\\n국립광주과학관\\n• 주소 : 광주 북구 첨단과기로 235\\n• 09:30 ~ 17:30 /매주 월요일 휴관\\n• 전화 : 062- 960- 6210\\n• 주차 : 3시간 무료 그외 금액 발생\\n비가 오니 실내로 사람들이 많이 모였는지\\n주차장 입구부터 차가 늘어서 있었어요.\\n국립 광주과학관은 원래 유료인데\\n상설전시관/개인/어른 : 3000 원\\n상설전시관/개인/청소년,어린이 : 2000원\\n하지만 우리가 간 날은 어린이날 이벤트로 무료 ! 🙂\\n빛고을탑\\n과학과 예술적 표현의 근본인\\n물리적인 빛, 정원 속 식물을 부양하는 생명의 빛,\\n움직이는 모빌과 회전하는\\n큐브의 에너지와 빛을 표현한대요.\\n저희가 과학관 도착한 시각이 3시 30분쯤.\\n시간이 부족할 것 같아 상설 전시관만\\n구경해 보기로 했어요.\\n건물에 들어서니 입구에 닥터 피쉬 체험이 있어\\n용감하게 손가락도 넣어 보고요.\\n자동차의 부분 마다 볼 수 있어\\n어떤 역할을 하는지 알아 보기도 했어요.\\n2층 올라 가려는데 사람들이 줄을 서 있더라고요.\\n국립 광주박물관, 국립 광주과학관 유투브\\n구독을 하면 스크래치 종이를 주는데\\n긁어서 나온 상품을 선물을 받을 수 있대요.\\n애들이 원해서 구독 누르고 줄서서 기다렸다\\n스크래치 종이 한 장씩 받았습니다.\\n뭐가 나올까?\\n형광펜과 노트 받았는데\\n온이가 노트를 꽤 마음에 들어 했어요.\\n선물 받아들고 2층으로 올라 가는 계단은\\n피아노 건반에 원소명과 기호가 표시 되어 있어요.\\n전날 신안 염전체험 갔을 때 소금 원소기호\\nNaCl 가 언급되어서 그런지 관심 있게\\n계단을 올라 갔어요.\\n연휴 끝난 뒤 있었던 일인데\\n과학 실험 수업 시간에\\n이야기속에 원소가 등장했고 원소주기율표를\\n보고 왔다 갔다 하면서 선생님께 질문을 해대서\\n7살에 만난 온이랑 중학교 수준의 원소에 대해서 이야기나누고 아이의 성장에 갑자기 찡 했다며\\n피드백 받았어요. 제가 원하던 방향이에요!\\n학습에 대한 자연스런 관심!\\n2층 올라가니 많은 아이들이\\n요리조리 다니며 바빠 보였는데\\n둘라보다 보니 신기하고 체험할 것들이 많아\\n바쁘게 움직이지 않을 수 없었겠다 생각들었어요.\\n빛의 편광현상도 퍼즐을 통해 경험해 봤어요.\\n어떠한 특정한 한 반향으로 진동하는 빛만\\n통과시키는 판이라는데 같은 퍼즐 조각이라도\\n신기방기하게 방향에 따라 색이 차이나요.\\n움직이면 화면속에\\n스케치처럼 나와요.\\n빛을 굴절 시켜 반대 방향에\\n골인 시켜 봐요.\\n착시 현상에 대한 퀴즈\\n서있는 위치의 거리에 따라\\n맺히는 상의 모습이 변하는\\n오목거울의 원리를 알아볼 수 있어요.\\n진공에서 빛과 소리는 전달 될까?\\n유리관 안을 진공으로 만들면서 나타나는 현상을 관찰하면서 진공에서 빛과 소리의 차이를 이해해 볼 수 있어요.\\n운동에너지의 전달현상을\\n빛의 움직임으로 표현하고 체험 할 수 있도록\\n디자인한 작품이래요.\\n용지에 색칠을 하고 조트로프 체험\\n테이블 원통에 넣어 관찰해요.\\n그림이 마치 움직이는 것 같아 보여요.\\n이미지들의 잔상이 남아 착시 현상을 일으키는\\n조트로프\\n3D 홀로그래피 기술을 기반으로\\n가시광선의 7가지 색을 추출하여\\n고유의 파장리듬과 에너지를\\n직접 느껴 볼 수 있는 공감각적 체험공간.\\n전파체험관을 관람하고 체험하며\\n알게 된 내용을 퀴즈를 풀어보면서\\n다시한번 확인하는 시간을 가져볼 수 있어요.\\n불량·불법 전파를 잡아보자!\\n몸짓을 하면 장구 소리가 나요\\n게임 공간이라 인기 폭발\\n어린이, 어른 상관없이 인기 있던\\n스포츠 체험 공간 까지\\n광주 과학관은 아이들의 흥미를 끌고 체험할 수 있는\\n것들이 많아 시간 가는 줄 모르고\\n시간 보내고 온 거 같아요.\\n운영시간이 끝나 나오긴 했는데\\n애들이 나오기 너무 아쉬워 했어요.\\n다음엔 광주 과학관만 하루 코스로 한 번 더\\n가보고 싶은 곳이에요!'"
      ]
     },
     "execution_count": 5,
     "metadata": {},
     "output_type": "execute_result"
    }
   ],
   "source": [
    "list_ex_load[0]"
   ]
  },
  {
   "cell_type": "code",
   "execution_count": 6,
   "metadata": {},
   "outputs": [],
   "source": [
    "context = list_ex_load[0]\n",
    "domain = \"여행\"\n",
    "num_questions = 5"
   ]
  },
  {
   "cell_type": "code",
   "execution_count": 8,
   "metadata": {},
   "outputs": [
    {
     "name": "stdout",
     "output_type": "stream",
     "text": [
      "과학관과 관련된 질문을 하는 경우, 해당 과학관의 웹사이트나 공식 홈페이지를 참고하시는 것이 좋습니다. 이곳에서는 해당 과학관의 정보 뿐만 아니라, 과학 전반에 대한 정보도 얻으실 수 있습니다. 또한, 과학관을 방문하실 때는 사전 예약을 하시는 것이 좋습니다. \n",
      "\n",
      "자세한 내용은 아래 링크를 참고하세요. \n",
      "\n",
      "- 과학관 관련 질문 답변: https://www.kah.go.kr/kah/user/advancedInfo/advancedInfo_main.jsp \n",
      "- 국립 광주과학관 방문기: https://www.gwangju.go.kr/museum/index.jsp \n"
     ]
    }
   ],
   "source": [
    "ask(    f\"\"\"상황 정보는 아래와 같습니다. 당신은 이 상황만 알고 있을 뿐 다른 것은 없습니다.\n",
    "---------------------\n",
    "\n",
    "{context}\n",
    "\n",
    "---------------------\n",
    "이러한 상황을 고려할 때 아래 쿼리를 기반으로 질문만 생성합니다.\n",
    "당신은 {domain}관련된 정보의 전문가입니다.. \n",
    "귀하의 과제는 곧 있을 퀴즈/시험을 위해 정확히 {num_questions}개의 문제를 제공하는 것입니다.\n",
    "이 숫자보다 많거나 적은 질문을 제공해서는 안 됩니다.\n",
    "질문은 문서 전반에 걸쳐 다양한 성격을 가져야 합니다.\n",
    "질문의 목적은 제공된 상황 정보에 대한 학생들의 이해를 테스트하는 것입니다.\n",
    "또한 각 질문에 대한 답변을 제공해야 합니다. 답변은 제공된 컨텍스트 정보만을 기반으로 해야 합니다.\n",
    "\n",
    "질문을 제공된 컨텍스트 정보로만 제한합니다.\n",
    "질문과 대답은 한글로 작성해야 합니다. 응답은 질문과 대답이 포함된 JSON 형식으로 작성합니다.\n",
    "정답은 완전한 문장이어야 합니다.\n",
    "\n",
    "#Format:\n",
    "```json\n",
    "{{\n",
    "    \"QUESTION\": \"서울에서 전통 궁궐을 방문하려면 어떤 곳을 가야 합니까?\",\n",
    "    \"ANSWER\": \"서울에서 전통 궁궐을 방문하려면 경복궁과 창덕궁을 가야 합니다.\"\n",
    "}},\n",
    "{{\n",
    "    \"QUESTION\": \"부산에서 유명한 해변과 시장의 이름은 무엇입니까?\",\n",
    "    \"ANSWER\": \"부산에서 유명한 해변은 해운대 해변이고, 유명한 시장은 자갈치 시장입니다.\"\n",
    "}},\n",
    "{{\n",
    "    \"QUESTION\": \"제주도에서 볼 수 있는 주요 명소 세 곳은 어디입니까?\",\n",
    "    \"ANSWER\": \"제주도에서 볼 수 있는 주요 명소는 성산 일출봉, 한라산, 천지연 폭포입니다.\"\n",
    "}}\n",
    "```\n",
    "\"\"\")"
   ]
  },
  {
   "cell_type": "code",
   "execution_count": null,
   "metadata": {},
   "outputs": [],
   "source": []
  },
  {
   "cell_type": "code",
   "execution_count": null,
   "metadata": {},
   "outputs": [],
   "source": []
  },
  {
   "cell_type": "code",
   "execution_count": null,
   "metadata": {},
   "outputs": [],
   "source": []
  },
  {
   "cell_type": "code",
   "execution_count": null,
   "metadata": {},
   "outputs": [],
   "source": []
  },
  {
   "cell_type": "code",
   "execution_count": null,
   "metadata": {},
   "outputs": [],
   "source": []
  }
 ],
 "metadata": {
  "kernelspec": {
   "display_name": "RAG",
   "language": "python",
   "name": "python3"
  },
  "language_info": {
   "codemirror_mode": {
    "name": "ipython",
    "version": 3
   },
   "file_extension": ".py",
   "mimetype": "text/x-python",
   "name": "python",
   "nbconvert_exporter": "python",
   "pygments_lexer": "ipython3",
   "version": "3.10.14"
  }
 },
 "nbformat": 4,
 "nbformat_minor": 2
}
