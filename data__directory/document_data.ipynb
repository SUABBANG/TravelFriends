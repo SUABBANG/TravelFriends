{
 "cells": [
  {
   "cell_type": "markdown",
   "metadata": {},
   "source": [
    "- blog 내용 데이터 크롤링"
   ]
  },
  {
   "cell_type": "code",
   "execution_count": 2,
   "metadata": {},
   "outputs": [],
   "source": [
    "from transformers import AutoTokenizer, AutoModelForCausalLM\n",
    "import torch\n",
    "from pydantic import BaseModel, Field\n",
    "\n",
    "from selenium import webdriver\n",
    "from selenium.webdriver.common.by import By\n",
    "from selenium.webdriver.chrome.service import Service\n",
    "from webdriver_manager.chrome import ChromeDriverManager"
   ]
  },
  {
   "cell_type": "code",
   "execution_count": 3,
   "metadata": {},
   "outputs": [],
   "source": [
    "driver = webdriver.Chrome(service= Service(ChromeDriverManager().install()))\n",
    "driver.implicitly_wait(10)\n",
    "title_url_list = ['https://blog.naver.com/jeju8253/223364786121']"
   ]
  },
  {
   "cell_type": "code",
   "execution_count": 4,
   "metadata": {},
   "outputs": [
    {
     "data": {
      "text/plain": [
       "'https://blog.naver.com/jeju8253/223364786121'"
      ]
     },
     "execution_count": 4,
     "metadata": {},
     "output_type": "execute_result"
    }
   ],
   "source": [
    "bs_url = title_url_list [0]\n",
    "bs_url"
   ]
  },
  {
   "cell_type": "code",
   "execution_count": 5,
   "metadata": {},
   "outputs": [],
   "source": [
    "m_url = \"https://m.\" + bs_url.replace(\"https://\",\"\") # mobile 버전으로 우회\n",
    "driver.get(m_url)\n",
    "driver.implicitly_wait(10)"
   ]
  },
  {
   "cell_type": "code",
   "execution_count": 6,
   "metadata": {},
   "outputs": [],
   "source": [
    "contents_ele = driver.find_elements(By.CLASS_NAME,'se-main-container')"
   ]
  },
  {
   "cell_type": "code",
   "execution_count": 7,
   "metadata": {},
   "outputs": [],
   "source": [
    "contents_text = contents_ele[0].text"
   ]
  },
  {
   "cell_type": "code",
   "execution_count": 8,
   "metadata": {},
   "outputs": [
    {
     "data": {
      "text/plain": [
       "'비가 아주 많이 내리던 어느 날 제주에서 광주를 통해 1박2일 볼일을 보기 위한 일정이 시작되었습니다\\n이때 힘들었던 일이 있어서 우울한 마음과 걱정 등 여러 가지 복합적인 감정을 가지고\\n일정을 봤던 게 기억나는데 이게 벌써 작년 여름이었으니 시간 참 빠르다는 생각도 듭니다\\n결국 힘든 일들도 시간이 약인 건가 싶기도 하네요\\n빛고을떡갈비\\n주소: 광주광역시 광산구 광산로29번길 14 송정동831-21\\n첫 번째 일정이 시작되기 전 공항에서 단체 버스로 이동을 하여 전라도 광주 맛집 한곳을 찾아가게 되었습니다\\n하늘에 구멍 난 것처럼 비가 쏟아지다 보니 일단 식당으로 뛰어 들어갔다가 나오면서 식당 외부 사진을 찍었던 기억이 나는데요\\n어르신들이 친구들과 함께 식사를 하러 가셨던 건지 함께 식당에서 나오고 있는 모습도 볼 수 있었답니다\\n건강하게 나이를 먹고 저렇게 친구들과 맛있는 거 먹고 소소한 행복을 나누는 삶을 살 수 있다는 것도 행운인 것 같습니다\\n1. 깔끔해 보였던 식당 내부\\n광주 송정 떡갈비 맛집 인지 아닌지는 먹어봐야 알 수 있겠죠\\n그래도 일단 기대는 가득 가지고 식당 내부로 들어가게 되었습니다\\n오래전 광주 여행을 했을 때도 떡갈비 식당 찾아갔다가 만족하고 왔던 기억이 있어서 더욱 기대를 했던 것 같아요\\n개인적으로 떡갈비보다는 고기 그대로 구워주는 식당을 좋아하긴 하지만 광주 떡갈비 맛집들은\\n그래도 다른 지역의 식당들 보다 반찬도 잘 나오고 그래서 만족도가 더 높더라고요\\n여행을 다니거나 일상생활 속 식당을 찾아다니면서 사진은 잔뜩 찍어 놓긴 하지만\\n막상 올리려고 하면 귀찮기도 하고 한 식당에서 마음먹고 포스팅해볼까 하고 촬영하지 않는 경우는\\n생각보다 사진 양이 많지 않기도 해서 그냥 폰이나 카메라에 사진만 보관하게 되는 일도 다반사인데\\n그래도 그런 사진을 보관해 놓기라도 하니 이렇게 전남 광주 송정동 맛집 처럼 오랜만에 사진 꺼내 보기도 하고\\n추억을 기록하는 시간을 갖게 되기도 하네요\\n2. 다양한 밑반찬\\n전라도 광주 맛집 답게 밑반찬도 여러 가지 세팅되는 편이었습니다\\n역시 우리나라 맛있는 음식이라고 하면 전라도 손맛을 빼놓을 수 없잖아요\\n확실히 전라도에 있는 식당들을 방문했을 때 반찬들도 다양하게 많이 준비되는 것을 볼 수 있는 것 같아요\\n광주 송정 떡갈비 맛집 찾아갔는데 고깃집 방문한 것처럼 쌈이 준비가 되네요\\n다른 지역에서 떡갈비 주문해서 쌈을 주는 것을 볼 수 있는 경우는 많지 않을 것 같은데요\\n가끔은 야채값이 비싸다고 고깃집에서 쌈을 주지 않는 경우도 있더라고요\\n사실 그런 걸 볼 때면 너무한다 싶을 때도 있는데요 고깃값이 떨어지거나 야채값 폭락할 때는\\n그만큼 가격을 깎아주는 건 절대 아니면서 좀 오를 때는 차이를 둔다는 것이\\n너무 눈앞의 이득만 생각하는 게 아닐까 생각이 들게 만드는 곳이 가끔 있습니다\\n3. 입맛에 잘 맞았던 반찬\\n자취를 오래 하다 보니 반찬을 다양하게 내어주는 식당들은 너무 애정 하게 됩니다\\n심지어 저는 음식을 가리는 게 없이 다 좋아하다 보니 밑반찬 잘 주면 정말 만족도가 높아지더라고요\\n그런데 반찬이 하나같이 맛있다면 식사를 하면서도 너무 기분이 좋아집니다\\n건강하게 음식 먹는 것도 좋아하는데 종류에 있어서 다양하게 사용하여 만들어진 반찬이 세팅되어\\n기분 좋은 식사를 시작할 수 있었습니다\\n다음에 기회가 된다면 전남 광주 송정동 맛집 다시 찾아가 보고 싶다는 생각이 들 정도로\\n만족하고 왔던 식당으로 기억되는 것을 보면 정말 괜찮은 광주 맛집이었던 것 같기도 하네요\\n단체로 광주 송정 떡갈비 맛집 방문을 하게 되다 보니 서빙해주고 그런 것이 쉽지 않았을 것 같기도 한데\\n사장님께서 대응도 잘 해줬던 기억이 납니다\\n4. 적당히 친절했던 사장님\\n전라도 광주 맛집 이용하면서 아주 큰 친절을 느낄만한 이벤트가 없었기 때문에 얼마나 친절하실지는 잘 모르겠습니다\\n심지어 단골로 찾아가는 식당도 아니고 딱 한 번 방문해 본 맛집이니까 저는 이 식당에 대해서 잘 모르는 게 맞긴 합니다\\n그런데 그 한 번의 방문에도 사장님은 적당히 친절하게 느껴졌습니다\\n부족한 반찬들도 부탁했을 때 잘 내어주셨던 기억이 납니다\\n갑자기 단체로 가서 음식이 좀 늦게 나오긴 했지만 광주 송정 떡갈비 맛집 안에서\\n매인 떡갈비가 나오기 전까지 기다리는 것이 전혀 지루하거나 불편하지 않았답니다\\n뼈 국물이 서비스로 나오기 때문인데요\\n이건 다른 식당에서 주문했을 때 반 정도는 되어 보이는 양으로 국을 내어주니 너무 푸짐하게 느껴졌답니다\\n사실 돼지 뼈는 그렇게 비싸지 않은데도 불구하고 어느 식당이든 절대 서비스로 내어주지는 않는다고 보면 될 거예요\\n그 이유는 이걸 먹음으로 인해서 배가 부르면 추가 음식을 주문하지 않을 수도 있기 때문에\\n대부분 식당에서는 기본적으로 서비스를 많이 내어주지 않는 편이죠\\n하지만 이곳 광주 빛고을떡갈비 식당에서는 1인에 1인분만 판매해도 만족을 하시는 것 같습니다\\n그리고 사장님의 서비스 마인드 덕분에 만족감을 느끼는 손님들은 다음에 또 찾아가는 단골이 되겠죠\\n심지어 저는 한 번 방문해 봤지만 만족스러워서 다음에 한 번 더 찾아가고 싶은 식당으로 기억하고 있으니\\n광주 사람들뿐만 아니라 타지 분들도 많이 찾아가는 맛집으로 장사가 잘될 수밖에 없겠다는 생각을 합니다\\n5. 푸짐한 음식으로 느끼는 인심\\n조금 덜 남기더라도 혹은 조금 서비스를 더 주면서 내가 살짝 손해 보는 듯한 느낌이 들더라도\\n상대에게 진심으로 대해주면 분명히 손님도 그걸 알고 자주 찾고 주변에 추천까지 해줄 텐데\\n왜 그런 식당은 드문 건지 모르겠습니다\\n아마 대부분이 눈앞에 보이는 것처럼 느껴지는 약간의 손해도 싫어서 그런 것일 수도 있을 텐데요\\n이런 전라도 광주 맛집 처럼 인심 좋은 식당들이 오래오래 잘 되었으면 좋겠다는 생각을 합니다\\n전남 광주 송정동 맛집 빛고을떡갈비에서는 떡갈비도 1인당 두 점씩 나왔던 걸로 기억합니다\\n개인적으로 단백질이 푸짐한 음식들을 좋아하거든요\\n생선이나 고기 등이 넉넉하게 나오는 식단은 애정 할 수밖에 없는데 매인인 그런 단백질이 들어간 음식들부터\\n밑반찬과 쌈까지 완벽하게 푸짐했던 광주 송정 떡갈비 맛집 이었기에\\n다시 광주를 찾을 때는 빛고을떡갈비에서 한 번 더 식사를 해보지 않을까라는 생각을 해봅니다\\n맛만 보기 위해서 가볍게 쌀 막걸리도 한 잔만 마셔 봤습니다\\n일행들 중에는 음주를 좋아하는 분들도 있었는데 저는 여러 가지 복잡한 생각으로 음주에 함께 하고 싶지는 않았어요\\n전라도 광주 맛집 들러서 맛있는 식사를 하고 여기저기 견학을 다니면서 일정 소화를 하고\\n제주도로 돌아왔다가 다시 대전으로 올라갔던 것이 기억납니다\\n광주를 자주 찾아가는 건 아닌데 갈 때마다 맛있는 식당들이 있었던 기억들 덕분인지\\n시간 될 때 광주로 놀러 가고 싶다는 생각이 들더라고요\\n지인에게도 놀러 간다고 이야기했었는데 조만간 여러 가지 볼일을 보기 위해 광주를 다시 한번 찾아가도록 해야겠습니다\\n빛고을떡갈비\\n광주광역시 광산구 광산로29번길 14 송정동831-21\\n이 블로그의 체크인\\n이 장소의 다른 글'"
      ]
     },
     "execution_count": 8,
     "metadata": {},
     "output_type": "execute_result"
    }
   ],
   "source": [
    "# Example\n",
    "contents_text"
   ]
  },
  {
   "cell_type": "code",
   "execution_count": 13,
   "metadata": {},
   "outputs": [],
   "source": [
    "import requests\n",
    "from bs4 import BeautifulSoup\n",
    "import pandas as pd\n",
    "\n",
    "from selenium import webdriver\n",
    "from selenium.webdriver.common.by import By\n",
    "from selenium.webdriver.chrome.service import Service\n",
    "from webdriver_manager.chrome import ChromeDriverManager\n",
    "\n",
    "from selenium.webdriver.common.keys import Keys\n",
    "import time\n",
    "\n",
    "import os\n",
    "from langchain_core.pydantic_v1 import BaseModel, Field\n",
    "from langchain_core.prompts import PromptTemplate\n",
    "\n",
    "from langchain_core.output_parsers import JsonOutputParser\n",
    "from langchain_openai import ChatOpenAI\n",
    "from langchain.callbacks.streaming_stdout import StreamingStdOutCallbackHandler"
   ]
  },
  {
   "cell_type": "code",
   "execution_count": 14,
   "metadata": {},
   "outputs": [
    {
     "name": "stdout",
     "output_type": "stream",
     "text": [
      "크롤링 사이트 개수 :  110\n"
     ]
    }
   ],
   "source": [
    "# naver 검색\n",
    "searchkey = \"전라남도 광주 여행\"\n",
    "url = f\"https://search.naver.com/search.naver?ssc=tab.blog.all&sm=tab_jum&query={searchkey}\"\n",
    "\n",
    "driver = webdriver.Chrome(service= Service(ChromeDriverManager().install()))\n",
    "driver.implicitly_wait(10)\n",
    "driver.get(url)\n",
    "driver.implicitly_wait(10)\n",
    "\n",
    "# 스크롤 아래로\n",
    "actions = driver.find_element(By.CSS_SELECTOR, 'body')\n",
    "actions.send_keys(Keys.END)\n",
    "\n",
    "time.sleep(2)\n",
    "actions.send_keys(Keys.END)\n",
    "time.sleep(2)\n",
    "actions.send_keys(Keys.END)\n",
    "time.sleep(2)\n",
    "actions.send_keys(Keys.END)\n",
    "time.sleep(2)\n",
    "actions.send_keys(Keys.END)\n",
    "time.sleep(2)\n",
    "\n",
    "# 블로그 url 리스트화\n",
    "title_element_list = driver.find_elements(By.CLASS_NAME,'title_link')\n",
    "\n",
    "title_url_list =[]\n",
    "for title_url in title_element_list:\n",
    "    url_append = title_url.get_attribute('href')\n",
    "    title_url_list.append(url_append)\n",
    "driver.close()\n",
    "\n",
    "print(\"크롤링 사이트 개수 : \", len(title_url_list))"
   ]
  },
  {
   "cell_type": "code",
   "execution_count": 16,
   "metadata": {
    "scrolled": true
   },
   "outputs": [
    {
     "name": "stdout",
     "output_type": "stream",
     "text": [
      "list index out of range\n",
      "list index out of range\n",
      "list index out of range\n",
      "list index out of range\n",
      "list index out of range\n",
      "list index out of range\n"
     ]
    }
   ],
   "source": [
    "driver = webdriver.Chrome(service= Service(ChromeDriverManager().install()))\n",
    "driver.implicitly_wait(10)\n",
    "\n",
    "contents_text_list=[]\n",
    "for bs_url in title_url_list:\n",
    "    m_url = \"https://m.\" + bs_url.replace(\"https://\",\"\") # mobile 버전으로 우회\n",
    "    driver.get(m_url)\n",
    "    driver.implicitly_wait(10)\n",
    "\n",
    "    # 본문 내용\n",
    "    contents_ele = driver.find_elements(By.CLASS_NAME,'se-main-container')\n",
    "    try:\n",
    "        contents_text = contents_ele[0].text\n",
    "        contents_text_list.append(contents_text)\n",
    "    except Exception as e:\n",
    "        print(e)"
   ]
  },
  {
   "cell_type": "code",
   "execution_count": 18,
   "metadata": {},
   "outputs": [
    {
     "data": {
      "text/plain": [
       "104"
      ]
     },
     "execution_count": 18,
     "metadata": {},
     "output_type": "execute_result"
    }
   ],
   "source": [
    "len(contents_text_list)"
   ]
  },
  {
   "cell_type": "code",
   "execution_count": 20,
   "metadata": {},
   "outputs": [],
   "source": [
    "# 내용을 list save\n",
    "import pickle\n",
    "\n",
    "with open(\"./DATA/전라남도_광주_여행_contents_list.pkl\",\"wb\") as f:\n",
    "    pickle.dump(contents_text_list, f)"
   ]
  },
  {
   "cell_type": "code",
   "execution_count": null,
   "metadata": {},
   "outputs": [],
   "source": []
  },
  {
   "cell_type": "code",
   "execution_count": null,
   "metadata": {},
   "outputs": [],
   "source": []
  }
 ],
 "metadata": {
  "kernelspec": {
   "display_name": "RAG",
   "language": "python",
   "name": "python3"
  },
  "language_info": {
   "codemirror_mode": {
    "name": "ipython",
    "version": 3
   },
   "file_extension": ".py",
   "mimetype": "text/x-python",
   "name": "python",
   "nbconvert_exporter": "python",
   "pygments_lexer": "ipython3",
   "version": "3.10.14"
  }
 },
 "nbformat": 4,
 "nbformat_minor": 4
}
