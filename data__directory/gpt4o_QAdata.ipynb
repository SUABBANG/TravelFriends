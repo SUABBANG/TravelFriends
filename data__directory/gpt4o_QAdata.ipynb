{
 "cells": [
  {
   "cell_type": "markdown",
   "metadata": {},
   "source": [
    "- gpt4o 기반 QA 데이터셋 생성"
   ]
  },
  {
   "cell_type": "code",
   "execution_count": 10,
   "metadata": {},
   "outputs": [],
   "source": [
    "import requests\n",
    "from bs4 import BeautifulSoup\n",
    "import pandas as pd\n",
    "\n",
    "from selenium import webdriver\n",
    "from selenium.webdriver.common.by import By\n",
    "from selenium.webdriver.chrome.service import Service\n",
    "from webdriver_manager.chrome import ChromeDriverManager\n",
    "\n",
    "from selenium.webdriver.common.keys import Keys\n",
    "import time\n",
    "\n",
    "import os\n",
    "from langchain_core.pydantic_v1 import BaseModel, Field\n",
    "from langchain_core.prompts import PromptTemplate\n",
    "\n",
    "from langchain_core.output_parsers import JsonOutputParser\n",
    "from langchain_openai import ChatOpenAI\n",
    "from langchain.callbacks.streaming_stdout import StreamingStdOutCallbackHandler"
   ]
  },
  {
   "cell_type": "code",
   "execution_count": 12,
   "metadata": {},
   "outputs": [],
   "source": [
    "# naver 검색\n",
    "searchkey = \"전라남도 광주 여행\"\n",
    "url = f\"https://search.naver.com/search.naver?ssc=tab.blog.all&sm=tab_jum&query={searchkey}\"\n",
    "\n",
    "driver = webdriver.Chrome(service= Service(ChromeDriverManager().install()))\n",
    "driver.implicitly_wait(10)\n",
    "driver.get(url)\n",
    "driver.implicitly_wait(10)\n",
    "\n",
    "# 스크롤 아래로\n",
    "actions = driver.find_element(By.CSS_SELECTOR, 'body')\n",
    "actions.send_keys(Keys.END)\n",
    "\n",
    "time.sleep(2)\n",
    "actions.send_keys(Keys.END)\n",
    "time.sleep(2)\n",
    "actions.send_keys(Keys.END)\n",
    "time.sleep(2)\n",
    "actions.send_keys(Keys.END)\n",
    "time.sleep(2)\n",
    "actions.send_keys(Keys.END)\n",
    "time.sleep(2)"
   ]
  },
  {
   "cell_type": "code",
   "execution_count": 13,
   "metadata": {},
   "outputs": [
    {
     "name": "stdout",
     "output_type": "stream",
     "text": [
      "크롤링 사이트 개수 :  110\n"
     ]
    }
   ],
   "source": [
    "# 블로그 url 리스트화\n",
    "title_element_list = driver.find_elements(By.CLASS_NAME,'title_link')\n",
    "\n",
    "title_url_list =[]\n",
    "for title_url in title_element_list:\n",
    "    url_append = title_url.get_attribute('href')\n",
    "    title_url_list.append(url_append)\n",
    "driver.close()\n",
    "\n",
    "print(\"크롤링 사이트 개수 : \", len(title_url_list))"
   ]
  },
  {
   "cell_type": "code",
   "execution_count": 14,
   "metadata": {},
   "outputs": [],
   "source": [
    "api_key = os.getenv('OPENAI_API_KEY')\n",
    "\n",
    "# 원하는 데이터 구조를 정의합니다.\n",
    "class QAPair(BaseModel):\n",
    "    question: str = Field(description=\"Question generated from the text\")\n",
    "    answer: str = Field(description=\"Answer related to the question\")\n",
    "\n",
    "\n",
    "\n",
    "prompt = PromptTemplate.from_template(\n",
    "    \"\"\"Context information is below. You are only aware of this context and nothing else.\n",
    "---------------------\n",
    "\n",
    "{context}\n",
    "\n",
    "---------------------\n",
    "Given this context, generate only questions based on the below query.\n",
    "You are an Teacher/Professor in {domain}. \n",
    "Your task is to provide exactly **{num_questions}** question(s) for an upcoming quiz/examination. \n",
    "You are not to provide more or less than this number of questions. \n",
    "The question(s) should be diverse in nature across the document. \n",
    "The purpose of question(s) is to test the understanding of the students on the context information provided.\n",
    "You must also provide the answer to each question. The answer should be based on the context information provided only.\n",
    "\n",
    "Restrict the question(s) to the context information provided only.\n",
    "QUESTION and ANSWER should be written in Korean. Response in JSON format which contains the `question` and `answer`.\n",
    "ANSWER should be a complete sentence.\n",
    "\n",
    "#Format:\n",
    "```json\n",
    "{{\n",
    "    \"QUESTION\": \"서울에서 전통 궁궐을 방문하려면 어떤 곳을 가야 합니까?\",\n",
    "    \"ANSWER\": \"서울에서 전통 궁궐을 방문하려면 경복궁과 창덕궁을 가야 합니다.\"\n",
    "}},\n",
    "{{\n",
    "    \"QUESTION\": \"부산에서 유명한 해변과 시장의 이름은 무엇입니까?\",\n",
    "    \"ANSWER\": \"부산에서 유명한 해변은 해운대 해변이고, 유명한 시장은 자갈치 시장입니다.\"\n",
    "}},\n",
    "{{\n",
    "    \"QUESTION\": \"제주도에서 볼 수 있는 주요 명소 세 곳은 어디입니까?\",\n",
    "    \"ANSWER\": \"제주도에서 볼 수 있는 주요 명소는 성산 일출봉, 한라산, 천지연 폭포입니다.\"\n",
    "}}\n",
    "```\n",
    "\"\"\"\n",
    ")"
   ]
  },
  {
   "cell_type": "code",
   "execution_count": 15,
   "metadata": {
    "scrolled": true
   },
   "outputs": [
    {
     "name": "stdout",
     "output_type": "stream",
     "text": [
      "```json\n",
      "{\n",
      "    \"QUESTION\": \"작년과 올해 어린이날의 공통점은 무엇입니까?\",\n",
      "    \"ANSWER\": \"작년과 올해 어린이날 모두 비가 왔습니다.\"\n",
      "},\n",
      "{\n",
      "    \"QUESTION\": \"전라남도 여행 일정에서 5월 4일에 방문한 두 장소는 어디입니까?\",\n",
      "    \"ANSWER\": \"5월 4일에 방문한 두 장소는 신안 소금박물관과 나주 드들강 유원지입니다.\"\n",
      "},\n",
      "{\n",
      "    \"QUESTION\": \"국립 광주과학관의 운영 시간은 어떻게 됩니까?\",\n",
      "    \"ANSWER\": \"국립 광주과학관의 운영 시간은 09:30부터 17:30까지입니다.\"\n",
      "},\n",
      "{\n",
      "    \"QUESTION\": \"국립 광주과학관의 주차 요금 정책은 어떻게 됩니까?\",\n",
      "    \"ANSWER\": \"국립 광주과학관의 주차는 3시간 무료이며, 그 외에는 금액이 발생합니다.\"\n",
      "},\n",
      "{\n",
      "    \"QUESTION\": \"어린이날 이벤트로 국립 광주과학관의 입장료는 어떻게 되었습니까?\",\n",
      "    \"ANSWER\": \"어린이날 이벤트로 국립 광주과학관의 입장료는 무료였습니다.\"\n",
      "},\n",
      "{\n",
      "    \"QUESTION\": \"국립 광주과학관 2층으로 올라가는 계단에는 무엇이 표시되어 있습니까?\",\n",
      "    \"ANSWER\": \"국립 광주과학관 2층으로 올라가는 계단에는 피아노 건반에 원소명과 기호가 표시되어 있습니다.\"\n",
      "},\n",
      "{\n",
      "    \"QUESTION\": \"국립 광주과학관에서 빛의 편광현상을 어떻게 경험할 수 있습니까?\",\n",
      "    \"ANSWER\": \"국립 광주과학관에서 빛의 편광현상은 퍼즐을 통해 경험할 수 있습니다.\"\n",
      "},\n",
      "{\n",
      "    \"QUESTION\": \"조트로프 체험은 어떤 원리를 이용한 것입니까?\",\n",
      "    \"ANSWER\": \"조트로프 체험은 이미지들의 잔상이 남아 착시 현상을 일으키는 원리를 이용한 것입니다.\"\n",
      "},\n",
      "{\n",
      "    \"QUESTION\": \"국립 광주과학관의 전파체험관에서 할 수 있는 활동은 무엇입니까?\",\n",
      "    \"ANSWER\": \"국립 광주과학관의 전파체험관에서는 불량·불법 전파를 잡아보는 활동을 할 수 있습니다.\"\n",
      "},\n",
      "{\n",
      "    \"QUESTION\": \"광주 과학관에서 아이들이 흥미를 끌고 체험할 수 있는 공간 중 인기 있는 공간은 무엇입니까?\",\n",
      "    \"ANSWER\": \"광주 과학관에서 인기 있는 공간은 스포츠 체험 공간입니다.\"\n",
      "}\n",
      "```"
     ]
    }
   ],
   "source": [
    "driver = webdriver.Chrome(service= Service(ChromeDriverManager().install()))\n",
    "driver.implicitly_wait(10)\n",
    "    \n",
    "qa_dataset =[] # dataset 저장 리스트\n",
    "# blog 정보 추출\n",
    "for bs_url in title_url_list[:1]:\n",
    "# bs_url = title_url_list [0]\n",
    "    m_url = \"https://m.\" + bs_url.replace(\"https://\",\"\") # mobile 버전으로 우회\n",
    "    driver.get(m_url)\n",
    "    driver.implicitly_wait(10)\n",
    "\n",
    "    # 본문 내용\n",
    "    contents_ele = driver.find_elements(By.CLASS_NAME,'se-main-container')\n",
    "    try:\n",
    "        contents_text = contents_ele[0].text\n",
    "\n",
    "        # 파서를 설정하고 프롬프트 템플릿에 지시사항을 주입합니다.\n",
    "        parser = JsonOutputParser(pydantic_object=QAPair)\n",
    "\n",
    "        chain = (\n",
    "            prompt\n",
    "            | ChatOpenAI(\n",
    "                model=\"gpt-4o\",\n",
    "                temperature=0,\n",
    "                streaming=True,\n",
    "                callbacks=[StreamingStdOutCallbackHandler()],\n",
    "            )\n",
    "            | parser\n",
    "        )  # 체인을 구성합니다.\n",
    "\n",
    "        qa_pair = []\n",
    "\n",
    "        qa_pair = chain.invoke(\n",
    "        {\"context\": contents_text, \"domain\": \"여행\", \"num_questions\": \"10\"}\n",
    "        )\n",
    "        qa_dataset.extend(qa_pair)\n",
    "    except Exception as e:\n",
    "        print(e)\n",
    "    \n",
    "driver.close()"
   ]
  },
  {
   "cell_type": "code",
   "execution_count": 20,
   "metadata": {},
   "outputs": [
    {
     "name": "stdout",
     "output_type": "stream",
     "text": [
      "JSON 파일이 저장되었습니다: ./DATA/전남광주여행_QA.json\n"
     ]
    }
   ],
   "source": [
    "import json\n",
    "\n",
    "# JSON 파일로 저장\n",
    "json_file_path = \"./DATA/전남광주여행_QA.json\"\n",
    "with open(json_file_path, \"w\", encoding=\"utf-8\") as json_file:\n",
    "    json.dump(qa_dataset, json_file, ensure_ascii=False, indent=4)\n",
    "\n",
    "print(f\"JSON 파일이 저장되었습니다: {json_file_path}\")"
   ]
  }
 ],
 "metadata": {
  "kernelspec": {
   "display_name": "RAG",
   "language": "python",
   "name": "python3"
  },
  "language_info": {
   "codemirror_mode": {
    "name": "ipython",
    "version": 3
   },
   "file_extension": ".py",
   "mimetype": "text/x-python",
   "name": "python",
   "nbconvert_exporter": "python",
   "pygments_lexer": "ipython3",
   "version": "3.10.14"
  }
 },
 "nbformat": 4,
 "nbformat_minor": 4
}
