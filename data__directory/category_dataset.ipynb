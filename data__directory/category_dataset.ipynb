{
 "cells": [
  {
   "cell_type": "markdown",
   "id": "1aeb2f8f-14f3-48f8-b860-ffee20e04a33",
   "metadata": {},
   "source": [
    "- csv 데이터\n",
    "    - idx\n",
    "    - name : 장소 명\n",
    "    - place_type : 장소 타입 (관광지, 휴양지, 맛집, 숙소 등)\n",
    "    - mood_type : 장소 분위기 (힐링, 로맨틱, 재미 등)\n",
    "    - adress : 주소\n",
    "    - phonenumber : 전화번호"
   ]
  },
  {
   "cell_type": "code",
   "execution_count": null,
   "id": "247a9dc5-ab87-46dd-a8e1-a16b8f94b450",
   "metadata": {},
   "outputs": [],
   "source": []
  },
  {
   "cell_type": "code",
   "execution_count": null,
   "id": "44289754-b667-4302-b595-4e0790d15338",
   "metadata": {},
   "outputs": [],
   "source": []
  },
  {
   "cell_type": "code",
   "execution_count": null,
   "id": "83567499-2fbf-4165-8ab8-079b46aea9c0",
   "metadata": {},
   "outputs": [],
   "source": []
  },
  {
   "cell_type": "code",
   "execution_count": null,
   "id": "f86c9082-a933-4323-9857-7ef0da26fe0f",
   "metadata": {},
   "outputs": [],
   "source": []
  },
  {
   "cell_type": "code",
   "execution_count": null,
   "id": "d3730538-cee1-457e-b9c6-a68e845455a1",
   "metadata": {},
   "outputs": [],
   "source": []
  },
  {
   "cell_type": "code",
   "execution_count": null,
   "id": "55a0bb08-5724-4c97-aee6-f66411fa3f19",
   "metadata": {},
   "outputs": [],
   "source": []
  },
  {
   "cell_type": "code",
   "execution_count": null,
   "id": "ef94e9fc-4b64-4215-92e9-c3ac8dbd18b4",
   "metadata": {},
   "outputs": [],
   "source": []
  },
  {
   "cell_type": "code",
   "execution_count": null,
   "id": "1d67506c-5e79-422c-9033-64b2197da458",
   "metadata": {},
   "outputs": [],
   "source": []
  },
  {
   "cell_type": "code",
   "execution_count": null,
   "id": "f330aaaa-a0c9-4fd8-b282-da712c60197a",
   "metadata": {},
   "outputs": [],
   "source": []
  },
  {
   "cell_type": "code",
   "execution_count": null,
   "id": "21ad28cb-95ca-4c3f-b418-3115a68bdf97",
   "metadata": {},
   "outputs": [],
   "source": []
  },
  {
   "cell_type": "code",
   "execution_count": null,
   "id": "6b5ed154-4039-40a3-ac43-0f3e2cfad3cc",
   "metadata": {},
   "outputs": [],
   "source": []
  },
  {
   "cell_type": "code",
   "execution_count": null,
   "id": "229d238f-cab5-4aa8-9cb1-dd8695719f0a",
   "metadata": {},
   "outputs": [],
   "source": []
  },
  {
   "cell_type": "code",
   "execution_count": null,
   "id": "9625307b-7196-4c50-b047-bc98261a1bd5",
   "metadata": {},
   "outputs": [],
   "source": []
  }
 ],
 "metadata": {
  "kernelspec": {
   "display_name": "RAG",
   "language": "python",
   "name": "rag"
  },
  "language_info": {
   "codemirror_mode": {
    "name": "ipython",
    "version": 3
   },
   "file_extension": ".py",
   "mimetype": "text/x-python",
   "name": "python",
   "nbconvert_exporter": "python",
   "pygments_lexer": "ipython3",
   "version": "3.10.14"
  }
 },
 "nbformat": 4,
 "nbformat_minor": 5
}
